{
 "cells": [
  {
   "cell_type": "code",
   "execution_count": 129,
   "metadata": {},
   "outputs": [],
   "source": [
    "import os\n",
    "import nltk\n",
    "import pickle"
   ]
  },
  {
   "cell_type": "code",
   "execution_count": null,
   "metadata": {},
   "outputs": [],
   "source": [
    "posReviewFileName = \"/data/rt-polaritydata/rtpolarity.pos\"\n",
    "negReviewFileName = \"/data/rt-polaritydata/rtpolarity.neg\""
   ]
  },
  {
   "cell_type": "code",
   "execution_count": 5,
   "metadata": {},
   "outputs": [],
   "source": [
    "with open(posReviewFileName,'r') as f:\n",
    "    positiveReviews = f.readlines()\n",
    "with open(negReviewFileName,'r') as f:\n",
    "    negativeReviews = f.readlines()"
   ]
  },
  {
   "cell_type": "markdown",
   "metadata": {},
   "source": [
    "### Train Test Split"
   ]
  },
  {
   "cell_type": "code",
   "execution_count": 6,
   "metadata": {},
   "outputs": [],
   "source": [
    "testTrainingSplitIndex = 2500"
   ]
  },
  {
   "cell_type": "code",
   "execution_count": 8,
   "metadata": {},
   "outputs": [],
   "source": [
    "trainPositiveReviews = positiveReviews[:testTrainingSplitIndex]\n",
    "trainNegativeReviews = negativeReviews[:testTrainingSplitIndex]"
   ]
  },
  {
   "cell_type": "code",
   "execution_count": 66,
   "metadata": {},
   "outputs": [
    {
     "data": {
      "text/plain": [
       "2500"
      ]
     },
     "execution_count": 66,
     "metadata": {},
     "output_type": "execute_result"
    }
   ],
   "source": [
    "len(trainNegativeReviews)"
   ]
  },
  {
   "cell_type": "code",
   "execution_count": 9,
   "metadata": {},
   "outputs": [],
   "source": [
    "testPositiveReviews = positiveReviews[testTrainingSplitIndex:]\n",
    "testNegativeReviews = negativeReviews[testTrainingSplitIndex:]"
   ]
  },
  {
   "cell_type": "markdown",
   "metadata": {},
   "source": [
    "### Build Vocabulary"
   ]
  },
  {
   "cell_type": "code",
   "execution_count": 12,
   "metadata": {},
   "outputs": [],
   "source": [
    "PositiveWordList = [word for line in trainPositiveReviews for word in line.split()]\n",
    "NegativeWordList = [word for line in trainNegativeReviews for word in line.split()]"
   ]
  },
  {
   "cell_type": "code",
   "execution_count": 15,
   "metadata": {},
   "outputs": [],
   "source": [
    "AllWordList = [item for sublist in [PositiveWordList,NegativeWordList] for item in sublist]"
   ]
  },
  {
   "cell_type": "code",
   "execution_count": 17,
   "metadata": {},
   "outputs": [],
   "source": [
    "vocabulary = list(set(AllWordList)) # create a set for filtering unique items"
   ]
  },
  {
   "cell_type": "markdown",
   "metadata": {},
   "source": [
    "### Extract Features Function"
   ]
  },
  {
   "cell_type": "code",
   "execution_count": 67,
   "metadata": {},
   "outputs": [],
   "source": [
    "# Extract Feature Vector from Reviews\n",
    "\n",
    "def extractFeatures(review):\n",
    "    review_words = set(review)\n",
    "    features = {}\n",
    "    for word in vocabulary:\n",
    "        features[word] = (word in review_words) #returns true if any word in vocabulary is present in review_words\n",
    "    return features"
   ]
  },
  {
   "cell_type": "markdown",
   "metadata": {},
   "source": [
    "### Transform Data For Training"
   ]
  },
  {
   "cell_type": "code",
   "execution_count": 68,
   "metadata": {},
   "outputs": [],
   "source": [
    "# returns a tuple containing review and its corresponding label\n",
    "\n",
    "negTaggedRevTrainList  = [{'review': oneReview.split(),'label' : 'negative'} for oneReview in trainNegativeReviews]\n",
    "posTaggedRevTrainList  = [{'review': oneReview.split(),'label' : 'positive'} for oneReview in trainPositiveReviews]\n",
    "fullTaggedRevTrainList = [item for sublist in [negTaggedRevTrainList,posTaggedRevTrainList] for item in sublist]\n",
    "trainingData = [(review['review'],review['label']) for review in fullTaggedRevTrainList ]"
   ]
  },
  {
   "cell_type": "code",
   "execution_count": 127,
   "metadata": {},
   "outputs": [
    {
     "name": "stdout",
     "output_type": "stream",
     "text": [
      "(['simplistic', ',', 'silly', 'and', 'tedious', '.'], 'negative')\n",
      "([\"it's\", 'so', 'laddish', 'and', 'juvenile', ',', 'only', 'teenage', 'boys', 'could', 'possibly', 'find', 'it', 'funny', '.'], 'negative')\n",
      "(['exploitative', 'and', 'largely', 'devoid', 'of', 'the', 'depth', 'or', 'sophistication', 'that', 'would', 'make', 'watching', 'such', 'a', 'graphic', 'treatment', 'of', 'the', 'crimes', 'bearable', '.'], 'negative')\n",
      "(['[garbus]', 'discards', 'the', 'potential', 'for', 'pathological', 'study', ',', 'exhuming', 'instead', ',', 'the', 'skewed', 'melodrama', 'of', 'the', 'circumstantial', 'situation', '.'], 'negative')\n",
      "(['a', 'visually', 'flashy', 'but', 'narratively', 'opaque', 'and', 'emotionally', 'vapid', 'exercise', 'in', 'style', 'and', 'mystification', '.'], 'negative')\n"
     ]
    },
    {
     "data": {
      "text/plain": [
       "[None, None, None, None, None]"
      ]
     },
     "execution_count": 127,
     "metadata": {},
     "output_type": "execute_result"
    }
   ],
   "source": [
    "[print(trainingData) for trainingData in trainingData[0:5]]"
   ]
  },
  {
   "cell_type": "markdown",
   "metadata": {},
   "source": [
    "### Feature Extraction Using nltk"
   ]
  },
  {
   "cell_type": "code",
   "execution_count": 69,
   "metadata": {},
   "outputs": [],
   "source": [
    "# Input : Training Data and Function Object, output : correct feature vector form\n",
    "\n",
    "trainingFeatures = nltk.classify.apply_features(extractFeatures,trainingData)"
   ]
  },
  {
   "cell_type": "markdown",
   "metadata": {},
   "source": [
    "### Train model"
   ]
  },
  {
   "cell_type": "code",
   "execution_count": 73,
   "metadata": {},
   "outputs": [],
   "source": [
    "trainedNBClassifier = nltk.NaiveBayesClassifier.train(trainingFeatures)"
   ]
  },
  {
   "cell_type": "code",
   "execution_count": 74,
   "metadata": {},
   "outputs": [
    {
     "data": {
      "text/plain": [
       "<nltk.classify.naivebayes.NaiveBayesClassifier at 0x217ee871288>"
      ]
     },
     "execution_count": 74,
     "metadata": {},
     "output_type": "execute_result"
    }
   ],
   "source": [
    "trainedNBClassifier"
   ]
  },
  {
   "cell_type": "code",
   "execution_count": 75,
   "metadata": {},
   "outputs": [],
   "source": [
    "def naiveBayesSentimentCalculator(review):\n",
    "    problemInstance =review.split()\n",
    "    problemFeatures = extractFeatures(problemInstance)\n",
    "    return trainedNBClassifier.classify(problemFeatures)"
   ]
  },
  {
   "cell_type": "code",
   "execution_count": 103,
   "metadata": {},
   "outputs": [],
   "source": [
    "def getTestReviewSentiments(naiveBayesSentimentCalculator):\n",
    "    testNegResults = [naiveBayesSentimentCalculator(review) for review in testNegativeReviews]\n",
    "    testPosResults = [naiveBayesSentimentCalculator(review) for review in testPositiveReviews]\n",
    "    labelToNum = {'positive': 1, 'negative':-1}\n",
    "    numericNegResults = [labelToNum[x] for x in testNegResults]\n",
    "    numericPosResults = [labelToNum[x] for x in testPosResults]\n",
    "    return { 'positive_results' : numericPosResults, 'negative_results' : numericNegResults}    "
   ]
  },
  {
   "cell_type": "code",
   "execution_count": 104,
   "metadata": {},
   "outputs": [],
   "source": [
    "# To test accuracy\n",
    "def runDiagnostics(reviewResult):\n",
    "    \n",
    "    posReviewRslt = reviewResult['positive_results']\n",
    "    negReviewRslt = reviewResult['negative_results']\n",
    "    \n",
    "    # percentage\n",
    "    pctTruePositive = sum([x>0 for x in posReviewRslt])/len(posReviewRslt)\n",
    "    pctTrueNegative = sum([x<0 for x in negReviewRslt])/len(negReviewRslt)\n",
    "    \n",
    "    #total \n",
    "    total       = len(posReviewRslt)+len(negReviewRslt)\n",
    "    total_pct   = sum([x>0 for x in posReviewRslt])+sum([x<0 for x in negReviewRslt])\n",
    "    overall_Acc = (total_pct*100)/total\n",
    "    \n",
    "    #display results\n",
    "    print(\"Accuracy of positive reviews : \" + \"%.2f\" % (pctTruePositive*100) +\"%\" )\n",
    "    print(\"Accuracy of negative reviews : \" + \"%.2f\" % (pctTrueNegative*100) +\"%\" )\n",
    "    print(\"Overall Accuracy : \" + \"%.2f\" % overall_Acc +\"%\" )"
   ]
  },
  {
   "cell_type": "code",
   "execution_count": 105,
   "metadata": {},
   "outputs": [
    {
     "name": "stdout",
     "output_type": "stream",
     "text": [
      "Accuracy of positive reviews : 73.40%\n",
      "Accuracy of negative reviews : 77.08%\n",
      "Overall Accuracy : 75.24%\n"
     ]
    }
   ],
   "source": [
    "runDiagnostics(getTestReviewSentiments(naiveBayesSentimentCalculator))"
   ]
  },
  {
   "cell_type": "code",
   "execution_count": 108,
   "metadata": {},
   "outputs": [
    {
     "data": {
      "text/plain": [
       "'positive'"
      ]
     },
     "execution_count": 108,
     "metadata": {},
     "output_type": "execute_result"
    }
   ],
   "source": [
    "naiveBayesSentimentCalculator(\"What an awesome movie\")"
   ]
  },
  {
   "cell_type": "code",
   "execution_count": 111,
   "metadata": {},
   "outputs": [
    {
     "data": {
      "text/plain": [
       "'negative'"
      ]
     },
     "execution_count": 111,
     "metadata": {},
     "output_type": "execute_result"
    }
   ],
   "source": [
    "naiveBayesSentimentCalculator(\"Movie was really bad\")"
   ]
  },
  {
   "cell_type": "code",
   "execution_count": 113,
   "metadata": {},
   "outputs": [
    {
     "data": {
      "text/plain": [
       "'positive'"
      ]
     },
     "execution_count": 113,
     "metadata": {},
     "output_type": "execute_result"
    }
   ],
   "source": [
    "naiveBayesSentimentCalculator(\"awesome movie, great direction\")"
   ]
  },
  {
   "cell_type": "code",
   "execution_count": 114,
   "metadata": {},
   "outputs": [
    {
     "data": {
      "text/plain": [
       "'negative'"
      ]
     },
     "execution_count": 114,
     "metadata": {},
     "output_type": "execute_result"
    }
   ],
   "source": [
    "naiveBayesSentimentCalculator(\"awesome movie, bad direction\")"
   ]
  },
  {
   "cell_type": "code",
   "execution_count": 117,
   "metadata": {},
   "outputs": [
    {
     "data": {
      "text/plain": [
       "'positive'"
      ]
     },
     "execution_count": 117,
     "metadata": {},
     "output_type": "execute_result"
    }
   ],
   "source": [
    "naiveBayesSentimentCalculator(\"above average movie, wonderful\")"
   ]
  },
  {
   "cell_type": "code",
   "execution_count": 118,
   "metadata": {},
   "outputs": [
    {
     "data": {
      "text/plain": [
       "'negative'"
      ]
     },
     "execution_count": 118,
     "metadata": {},
     "output_type": "execute_result"
    }
   ],
   "source": [
    "naiveBayesSentimentCalculator(\"above average movie, good\")"
   ]
  },
  {
   "cell_type": "markdown",
   "metadata": {},
   "source": [
    "good is classified as negative... OOPS "
   ]
  },
  {
   "cell_type": "code",
   "execution_count": 120,
   "metadata": {},
   "outputs": [
    {
     "data": {
      "text/plain": [
       "'positive'"
      ]
     },
     "execution_count": 120,
     "metadata": {},
     "output_type": "execute_result"
    }
   ],
   "source": [
    "naiveBayesSentimentCalculator(\"One of the best movies ever. Props to Coppola for directing this amazing masterpiece . Marlon Brando and Al Pacino are the standout stars of this movie that make it interesting. The plot is suspenseful and interesting. There are many scenes in this movie that show you just how powerful the Corleones are and reminds you not to mess with the Mafia. It also ties up the importance of family , love while also being a gangster film.\")"
   ]
  },
  {
   "cell_type": "code",
   "execution_count": 121,
   "metadata": {},
   "outputs": [
    {
     "data": {
      "text/plain": [
       "'negative'"
      ]
     },
     "execution_count": 121,
     "metadata": {},
     "output_type": "execute_result"
    }
   ],
   "source": [
    "naiveBayesSentimentCalculator(\"This movie was gravely disappointing. If you’re scrolling through Apple TV during quarantine wondering whether to buy it or not? Don’t! It’s a let down with a poor story line and jokes that fall flat and waste of money. The trailer paints a witty, intelligently strung stylised story but what you get instead is vulgar sexual jokes (which aren’t funny) and an array of side characters with out of context one liners. We turned it off when one of the characters tells another “you smell so nice and fresh! Almost like a fresh thermometer before it enters your butt”. Plain stupid, vulgar and tasteless. Save your money and watch one of the older chick flicks if you wish. I truly believe that having men write, produce and direct this movie is where it went wrong! No woman would ever agree to such a vulgar and tasteless script.\")"
   ]
  },
  {
   "cell_type": "markdown",
   "metadata": {},
   "source": [
    "Works fine on lengthy reviews and not good with one liners with very few words."
   ]
  },
  {
   "cell_type": "code",
   "execution_count": 131,
   "metadata": {},
   "outputs": [],
   "source": [
    "# Save Classifier\n",
    "movRevNBClassifier = open(\"nbSentiClassifier.pickle\", \"wb\")\n",
    "pickle.dump(trainedNBClassifier,movRevNBClassifier)"
   ]
  },
  {
   "cell_type": "code",
   "execution_count": null,
   "metadata": {},
   "outputs": [],
   "source": []
  }
 ],
 "metadata": {
  "kernelspec": {
   "display_name": "Python 3",
   "language": "python",
   "name": "python3"
  },
  "language_info": {
   "codemirror_mode": {
    "name": "ipython",
    "version": 3
   },
   "file_extension": ".py",
   "mimetype": "text/x-python",
   "name": "python",
   "nbconvert_exporter": "python",
   "pygments_lexer": "ipython3",
   "version": "3.7.4"
  }
 },
 "nbformat": 4,
 "nbformat_minor": 2
}
