{
 "cells": [
  {
   "cell_type": "markdown",
   "metadata": {},
   "source": [
    "# Rule Based Approach"
   ]
  },
  {
   "cell_type": "markdown",
   "metadata": {},
   "source": [
    "Two methods : \n",
    "    - vader \n",
    "        -- powerful easy to use rule based classifier\n",
    "    - sentiwordnet\n",
    "        -- performs reasonably, can also be used for building classifiers"
   ]
  },
  {
   "cell_type": "markdown",
   "metadata": {},
   "source": [
    "Create data folder      \n",
    "Download data and  extract to project directory/data.   \n",
    "Download data here :<a href = http://www.cs.cornell.edu/people/pabo/movie-review-data/rt-polaritydata.tar.gz>CLICK ME</a>"
   ]
  },
  {
   "cell_type": "code",
   "execution_count": 2,
   "metadata": {},
   "outputs": [],
   "source": [
    "import os\n",
    "from string import punctuation \n",
    "from nltk.sentiment import vader \n",
    "from nltk.corpus import stopwords\n",
    "from nltk.corpus import sentiwordnet as swn"
   ]
  },
  {
   "cell_type": "code",
   "execution_count": 3,
   "metadata": {},
   "outputs": [],
   "source": [
    "posReviewFileName = \"/data/rt-polaritydata/rtpolarity.pos\"\n",
    "negReviewFileName = \"/data/rt-polaritydata/rtpolarity.neg\""
   ]
  },
  {
   "cell_type": "code",
   "execution_count": 7,
   "metadata": {},
   "outputs": [],
   "source": [
    "with open(posReviewFileName,'r') as f:\n",
    "    positiveReviews = f.readlines()\n",
    "with open(negReviewFileName,'r') as f:\n",
    "    negativeReviews = f.readlines()"
   ]
  },
  {
   "cell_type": "markdown",
   "metadata": {},
   "source": [
    "### VADER"
   ]
  },
  {
   "cell_type": "code",
   "execution_count": 8,
   "metadata": {},
   "outputs": [],
   "source": [
    "sia = vader.SentimentIntensityAnalyzer() #instantiate  ... object from vader module"
   ]
  },
  {
   "cell_type": "code",
   "execution_count": 6,
   "metadata": {},
   "outputs": [],
   "source": [
    "def vaderSentiment(review):\n",
    "    return sia.polarity_scores(review)['compound']"
   ]
  },
  {
   "cell_type": "code",
   "execution_count": 11,
   "metadata": {},
   "outputs": [],
   "source": [
    "sampPosReview = \"This is a good restaurant\"\n",
    "sampNegReview = \"This is not a good restaurant\""
   ]
  },
  {
   "cell_type": "markdown",
   "metadata": {},
   "source": [
    "*************************"
   ]
  },
  {
   "cell_type": "code",
   "execution_count": 17,
   "metadata": {},
   "outputs": [
    {
     "name": "stdout",
     "output_type": "stream",
     "text": [
      "0.4404 -0.3412\n"
     ]
    }
   ],
   "source": [
    "# Trial :\n",
    "\n",
    "print(vaderSentiment(sampPosReview) , vaderSentiment(sampNegReview))"
   ]
  },
  {
   "cell_type": "markdown",
   "metadata": {},
   "source": [
    "***************************************"
   ]
  },
  {
   "cell_type": "code",
   "execution_count": 18,
   "metadata": {},
   "outputs": [],
   "source": [
    "# following fuction takes a function as input and returns a dictionary : so that we can apply any function\n",
    "def getReviewSentiments(sentimentCalculatorFunc):\n",
    "    negReviewResult = [sentimentCalculatorFunc(i) for i in negativeReviews]\n",
    "    posReviewResult = [sentimentCalculatorFunc(i) for i in positiveReviews]\n",
    "    return {'positive_results' : posReviewResult, 'negative_results' : negReviewResult}"
   ]
  },
  {
   "cell_type": "code",
   "execution_count": 21,
   "metadata": {},
   "outputs": [],
   "source": [
    "# To test accuracy\n",
    "def runDiagnostics(reviewResult):\n",
    "    \n",
    "    posReviewRslt = reviewResult['positive_results']\n",
    "    negReviewRslt = reviewResult['negative_results']\n",
    "    \n",
    "    # percentage\n",
    "    pctTruePositive = sum([x>0 for x in posReviewRslt])/len(posReviewRslt)\n",
    "    pctTrueNegative = sum([x<0 for x in negReviewRslt])/len(negReviewRslt)\n",
    "    \n",
    "    #total \n",
    "    total       = len(posReviewRslt)+len(negReviewRslt)\n",
    "    total_pct   = sum([x>0 for x in posReviewRslt])+sum([x<0 for x in negReviewRslt])\n",
    "    overall_Acc = (total_pct*100)/total\n",
    "    \n",
    "    #display results\n",
    "    print(\"Accuracy of positive reviews : \" + \"%.2f\" % (pctTruePositive*100) +\"%\" )\n",
    "    print(\"Accuracy of negative reviews : \" + \"%.2f\" % (pctTrueNegative*100) +\"%\" )\n",
    "    print(\"Overall Accuracy : \" + \"%.2f\" % overall_Acc +\"%\" )"
   ]
  },
  {
   "cell_type": "markdown",
   "metadata": {},
   "source": [
    "Test : Vader "
   ]
  },
  {
   "cell_type": "code",
   "execution_count": 22,
   "metadata": {},
   "outputs": [
    {
     "name": "stdout",
     "output_type": "stream",
     "text": [
      "Accuracy of positive reviews : 69.44%\n",
      "Accuracy of negative reviews : 40.09%\n",
      "Overall Accuracy : 54.76%\n"
     ]
    }
   ],
   "source": [
    "runDiagnostics(getReviewSentiments(vaderSentiment))"
   ]
  },
  {
   "cell_type": "markdown",
   "metadata": {},
   "source": [
    "### SENTIWORDNET"
   ]
  },
  {
   "cell_type": "code",
   "execution_count": 28,
   "metadata": {},
   "outputs": [],
   "source": [
    "stopwords=set(stopwords.words('english')+list(punctuation))"
   ]
  },
  {
   "cell_type": "code",
   "execution_count": 29,
   "metadata": {},
   "outputs": [],
   "source": [
    "def senti_word_net(review):\n",
    "    reviewPolariy = 0.0\n",
    "    numExceptions = 0\n",
    "    for word in review.lower().split():\n",
    "        numMeanings = 0\n",
    "        \n",
    "        if word in stopwords:\n",
    "            continue\n",
    "        weight = 0.0\n",
    "        try:\n",
    "            for meaning in list(swn.senti_synsets(word)):\n",
    "                if meaning.pos_score() > meaning.neg_score() :\n",
    "                    weight += (meaning.pos_score() - meaning.neg_score())\n",
    "                    numMeanings += 1\n",
    "                elif meaning.pos_score() < meaning.neg_score() :\n",
    "                    weight -= (meaning.neg_score() - meaning.pos_score())\n",
    "                    numMeanings += 1\n",
    "        except : \n",
    "            numExceptions = numExceptions+1\n",
    "        \n",
    "        if numMeanings > 0:\n",
    "            reviewPolariy += (weight/numMeanings)\n",
    "    return reviewPolariy"
   ]
  },
  {
   "cell_type": "code",
   "execution_count": 31,
   "metadata": {},
   "outputs": [
    {
     "name": "stdout",
     "output_type": "stream",
     "text": [
      "Accuracy of positive reviews : 75.56%\n",
      "Accuracy of negative reviews : 42.79%\n",
      "Overall Accuracy : 59.17%\n"
     ]
    }
   ],
   "source": [
    "runDiagnostics(getReviewSentiments(senti_word_net))"
   ]
  },
  {
   "cell_type": "markdown",
   "metadata": {},
   "source": [
    "Accuracy improved, but : "
   ]
  },
  {
   "cell_type": "markdown",
   "metadata": {},
   "source": [
    "************************************************"
   ]
  },
  {
   "cell_type": "code",
   "execution_count": 35,
   "metadata": {},
   "outputs": [
    {
     "name": "stdout",
     "output_type": "stream",
     "text": [
      "0.6630434782608695 0.6630434782608695\n"
     ]
    }
   ],
   "source": [
    "# Trial:\n",
    "\n",
    "print(senti_word_net(sampPosReview) , senti_word_net(sampNegReview))"
   ]
  },
  {
   "cell_type": "markdown",
   "metadata": {},
   "source": [
    "***********************************"
   ]
  },
  {
   "cell_type": "markdown",
   "metadata": {},
   "source": [
    "both pos & neg reviews are giving same values . because of stopword removal.   \n",
    "These are some of the issues with rule based approach.  \n",
    "It will require lots of fine tuning.\n",
    "Rule Based approaches are not efficient if variety of patterns exist in data"
   ]
  },
  {
   "cell_type": "markdown",
   "metadata": {},
   "source": [
    "******************"
   ]
  },
  {
   "cell_type": "code",
   "execution_count": null,
   "metadata": {},
   "outputs": [],
   "source": []
  }
 ],
 "metadata": {
  "kernelspec": {
   "display_name": "Python 3",
   "language": "python",
   "name": "python3"
  },
  "language_info": {
   "codemirror_mode": {
    "name": "ipython",
    "version": 3
   },
   "file_extension": ".py",
   "mimetype": "text/x-python",
   "name": "python",
   "nbconvert_exporter": "python",
   "pygments_lexer": "ipython3",
   "version": "3.7.4"
  }
 },
 "nbformat": 4,
 "nbformat_minor": 2
}
