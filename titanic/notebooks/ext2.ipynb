{
 "cells": [
  {
   "cell_type": "code",
   "execution_count": 24,
   "metadata": {},
   "outputs": [],
   "source": [
    "import os\n",
    "from dotenv import load_dotenv,find_dotenv #utility python package"
   ]
  },
  {
   "cell_type": "code",
   "execution_count": 25,
   "metadata": {},
   "outputs": [
    {
     "data": {
      "text/plain": [
       "True"
      ]
     },
     "execution_count": 25,
     "metadata": {},
     "output_type": "execute_result"
    }
   ],
   "source": [
    "dotenv_path = find_dotenv() #auto-find env\n",
    "load_dotenv(dotenv_path) #load env"
   ]
  },
  {
   "cell_type": "code",
   "execution_count": 33,
   "metadata": {},
   "outputs": [
    {
     "data": {
      "text/plain": [
       "'C:\\\\Users\\\\LOCALGHOST\\\\Desktop\\\\MYPROJECTS\\\\titanic\\\\notebooks\\\\data'"
      ]
     },
     "execution_count": 33,
     "metadata": {},
     "output_type": "execute_result"
    }
   ],
   "source": [
    "os.path.join(os.getcwd(),'processed')"
   ]
  },
  {
   "cell_type": "code",
   "execution_count": 37,
   "metadata": {},
   "outputs": [],
   "source": [
    "path  = os.path.join(os.getcwd(),'data','processed')"
   ]
  },
  {
   "cell_type": "code",
   "execution_count": 38,
   "metadata": {},
   "outputs": [
    {
     "name": "stdout",
     "output_type": "stream",
     "text": [
      "Downloading wine-reviews.zip to path\n",
      "\n"
     ]
    },
    {
     "name": "stderr",
     "output_type": "stream",
     "text": [
      "\n",
      "  0%|          | 0.00/50.9M [00:00<?, ?B/s]\n",
      "  2%|1         | 1.00M/50.9M [00:00<00:07, 6.66MB/s]\n",
      "  6%|5         | 3.00M/50.9M [00:00<00:06, 7.58MB/s]\n",
      " 10%|9         | 5.00M/50.9M [00:00<00:05, 8.40MB/s]\n",
      " 14%|#3        | 7.00M/50.9M [00:00<00:05, 9.14MB/s]\n",
      " 18%|#7        | 9.00M/50.9M [00:01<00:06, 7.06MB/s]\n",
      " 22%|##1       | 11.0M/50.9M [00:01<00:05, 8.23MB/s]\n",
      " 26%|##5       | 13.0M/50.9M [00:01<00:05, 7.80MB/s]\n",
      " 29%|##9       | 15.0M/50.9M [00:01<00:04, 8.92MB/s]\n",
      " 33%|###3      | 17.0M/50.9M [00:01<00:03, 9.92MB/s]\n",
      " 37%|###7      | 19.0M/50.9M [00:02<00:03, 10.8MB/s]\n",
      " 41%|####1     | 21.0M/50.9M [00:02<00:05, 5.53MB/s]\n",
      " 45%|####5     | 23.0M/50.9M [00:03<00:04, 6.61MB/s]\n",
      " 49%|####9     | 25.0M/50.9M [00:03<00:03, 7.54MB/s]\n",
      " 53%|#####3    | 27.0M/50.9M [00:03<00:04, 5.73MB/s]\n",
      " 57%|#####7    | 29.0M/50.9M [00:03<00:03, 6.89MB/s]\n",
      " 59%|#####8    | 30.0M/50.9M [00:04<00:03, 5.77MB/s]\n",
      " 63%|######2   | 32.0M/50.9M [00:04<00:02, 6.85MB/s]\n",
      " 65%|######4   | 33.0M/50.9M [00:05<00:05, 3.21MB/s]\n",
      " 69%|######8   | 35.0M/50.9M [00:06<00:05, 2.91MB/s]\n",
      " 73%|#######2  | 37.0M/50.9M [00:06<00:03, 3.74MB/s]\n",
      " 75%|#######4  | 38.0M/50.9M [00:06<00:03, 4.30MB/s]\n",
      " 79%|#######8  | 40.0M/50.9M [00:06<00:02, 4.07MB/s]\n",
      " 83%|########2 | 42.0M/50.9M [00:07<00:02, 3.99MB/s]\n",
      " 87%|########6 | 44.0M/50.9M [00:08<00:01, 3.77MB/s]\n",
      " 90%|######### | 46.0M/50.9M [00:08<00:01, 4.85MB/s]\n",
      " 92%|#########2| 47.0M/50.9M [00:08<00:01, 3.87MB/s]\n",
      " 96%|#########6| 49.0M/50.9M [00:09<00:00, 4.20MB/s]\n",
      "100%|##########| 50.9M/50.9M [00:09<00:00, 5.39MB/s]\n",
      "100%|##########| 50.9M/50.9M [00:09<00:00, 5.79MB/s]\n"
     ]
    }
   ],
   "source": [
    "os.environ['KAGGLE_USERNAME'] = os.environ.get('kgl_usr')\n",
    "os.environ['KAGGLE_KEY'] = os.environ.get('kgl_key')\n",
    "!kaggle datasets download -d zynicide/wine-reviews -p path\n",
    "\n",
    "\n"
   ]
  },
  {
   "cell_type": "code",
   "execution_count": 28,
   "metadata": {},
   "outputs": [
    {
     "data": {
      "text/plain": [
       "['.gitkeep',\n",
       " '.ipynb_checkpoints',\n",
       " 'ext2.ipynb',\n",
       " 'extraction.ipynb',\n",
       " 'processed',\n",
       " 'wine-reviews.zip']"
      ]
     },
     "execution_count": 28,
     "metadata": {},
     "output_type": "execute_result"
    }
   ],
   "source": [
    "cwd = os.getcwd()\n",
    "os.listdir()"
   ]
  },
  {
   "cell_type": "code",
   "execution_count": null,
   "metadata": {},
   "outputs": [],
   "source": []
  },
  {
   "cell_type": "code",
   "execution_count": null,
   "metadata": {},
   "outputs": [],
   "source": []
  }
 ],
 "metadata": {
  "kernelspec": {
   "display_name": "Python 3",
   "language": "python",
   "name": "python3"
  },
  "language_info": {
   "codemirror_mode": {
    "name": "ipython",
    "version": 3
   },
   "file_extension": ".py",
   "mimetype": "text/x-python",
   "name": "python",
   "nbconvert_exporter": "python",
   "pygments_lexer": "ipython3",
   "version": "3.7.4"
  }
 },
 "nbformat": 4,
 "nbformat_minor": 2
}
